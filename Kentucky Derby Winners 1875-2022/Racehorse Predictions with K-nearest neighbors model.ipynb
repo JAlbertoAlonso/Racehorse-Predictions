{
 "cells": [
  {
   "cell_type": "markdown",
   "id": "45fd192f",
   "metadata": {},
   "source": [
    "# Race predictions | K-Nearest Neighbors model"
   ]
  },
  {
   "cell_type": "markdown",
   "id": "69455496",
   "metadata": {},
   "source": [
    "### Description\n",
    "\n",
    "**In this notebook, it will be described the process of creating a horse winner race predictor based on the Kentucky derby winners data.**"
   ]
  },
  {
   "cell_type": "markdown",
   "id": "63eb69ce",
   "metadata": {},
   "source": [
    "### Targets:\n",
    "\n",
    "* Perform an Exploratory Data Analysis.\n",
    "* Transform and Standardize the data.\n",
    "* Create a K-Nearest Neighbors model.\n",
    "* Find the best fit for the model.\n",
    "* Perform the metrics regard to the fastest horses."
   ]
  },
  {
   "cell_type": "markdown",
   "id": "25c49e73",
   "metadata": {},
   "source": [
    "## 1. Library importation"
   ]
  },
  {
   "cell_type": "code",
   "execution_count": 1,
   "id": "d1c8c931",
   "metadata": {},
   "outputs": [],
   "source": [
    "# Data management\n",
    "import numpy as np\n",
    "import pandas as pd\n",
    "\n",
    "# Data visualization\n",
    "import matplotlib.pyplot as plt\n",
    "%matplotlib inline\n",
    "import seaborn as sns\n",
    "sns.set_style('whitegrid')\n",
    "\n",
    "# Data scaling\n",
    "from sklearn.preprocessing import StandardScaler as SS\n",
    "\n",
    "# Data splitting\n",
    "from sklearn.model_selection import train_test_split as tts\n",
    "\n",
    "# K-Nearest Neighbor model builder\n",
    "from sklearn.neighbors import KNeighborsClassifier as KNC\n",
    "\n",
    "# Model metrics\n",
    "from sklearn.metrics import confusion_matrix as cm\n",
    "from sklearn.metrics import classification_report as cr\n",
    "from sklearn.metrics import accuracy_score, precision_score, recall_score, f1_score"
   ]
  },
  {
   "cell_type": "markdown",
   "id": "da6c4b3d",
   "metadata": {},
   "source": [
    "## 2. Load and Information of the data"
   ]
  },
  {
   "cell_type": "code",
   "execution_count": 2,
   "id": "c8dab526",
   "metadata": {},
   "outputs": [],
   "source": [
    "df = pd.read_csv('kentucky_derby_winners.csv')"
   ]
  },
  {
   "cell_type": "markdown",
   "id": "36efb1fa",
   "metadata": {},
   "source": [
    "### Data fields\n",
    "* year : race year\n",
    "* winner: the winning horse\n",
    "* jockey: the winning jockey\n",
    "* trainer: trainer of the winning horse\n",
    "* owner: owner of the winning horse\n",
    "* distance: distance of the race in miles\n",
    "* track_condition: track conditions\n",
    "* time_string: winning time in the format of Minutes:Seconds\n",
    "* time_sec: winning time in seconds"
   ]
  },
  {
   "cell_type": "code",
   "execution_count": 3,
   "id": "a6447e44",
   "metadata": {},
   "outputs": [
    {
     "data": {
      "text/html": [
       "<div>\n",
       "<style scoped>\n",
       "    .dataframe tbody tr th:only-of-type {\n",
       "        vertical-align: middle;\n",
       "    }\n",
       "\n",
       "    .dataframe tbody tr th {\n",
       "        vertical-align: top;\n",
       "    }\n",
       "\n",
       "    .dataframe thead th {\n",
       "        text-align: right;\n",
       "    }\n",
       "</style>\n",
       "<table border=\"1\" class=\"dataframe\">\n",
       "  <thead>\n",
       "    <tr style=\"text-align: right;\">\n",
       "      <th></th>\n",
       "      <th>year</th>\n",
       "      <th>winner</th>\n",
       "      <th>jockey</th>\n",
       "      <th>trainer</th>\n",
       "      <th>owner</th>\n",
       "      <th>distance</th>\n",
       "      <th>track_condition</th>\n",
       "      <th>time_string</th>\n",
       "      <th>time_sec</th>\n",
       "    </tr>\n",
       "  </thead>\n",
       "  <tbody>\n",
       "    <tr>\n",
       "      <th>0</th>\n",
       "      <td>2022</td>\n",
       "      <td>Rich Strike</td>\n",
       "      <td>Sonny Leon</td>\n",
       "      <td>Eric Reed</td>\n",
       "      <td>RED TR-Racing</td>\n",
       "      <td>1.25</td>\n",
       "      <td>Fast</td>\n",
       "      <td>2:02.61</td>\n",
       "      <td>122.61</td>\n",
       "    </tr>\n",
       "    <tr>\n",
       "      <th>1</th>\n",
       "      <td>2021</td>\n",
       "      <td>Mandaloun</td>\n",
       "      <td>Florent Geroux</td>\n",
       "      <td>Brad H. Cox</td>\n",
       "      <td>Juddmonte Farm</td>\n",
       "      <td>1.25</td>\n",
       "      <td>Fast</td>\n",
       "      <td>2:01.02</td>\n",
       "      <td>121.02</td>\n",
       "    </tr>\n",
       "    <tr>\n",
       "      <th>2</th>\n",
       "      <td>2020</td>\n",
       "      <td>Authentic</td>\n",
       "      <td>John Velazquez</td>\n",
       "      <td>Bob Baffert</td>\n",
       "      <td>Spendthrift Farm LLC, MyRaceHorse Stable, Mada...</td>\n",
       "      <td>1.25</td>\n",
       "      <td>Fast</td>\n",
       "      <td>2:00.61</td>\n",
       "      <td>120.61</td>\n",
       "    </tr>\n",
       "    <tr>\n",
       "      <th>3</th>\n",
       "      <td>2019</td>\n",
       "      <td>Country House</td>\n",
       "      <td>Flavien Prat</td>\n",
       "      <td>Bill Mott</td>\n",
       "      <td>Mrs. J.V. Shields Jr., E. J. M. McFadden Jr. a...</td>\n",
       "      <td>1.25</td>\n",
       "      <td>Sloppy</td>\n",
       "      <td>2:03.93</td>\n",
       "      <td>123.93</td>\n",
       "    </tr>\n",
       "    <tr>\n",
       "      <th>4</th>\n",
       "      <td>2018</td>\n",
       "      <td>Justify</td>\n",
       "      <td>Mike E. Smith</td>\n",
       "      <td>Bob Baffert</td>\n",
       "      <td>China Horse Club, Head of Plains Partners, Sta...</td>\n",
       "      <td>1.25</td>\n",
       "      <td>Sloppy</td>\n",
       "      <td>2:04.20</td>\n",
       "      <td>124.20</td>\n",
       "    </tr>\n",
       "  </tbody>\n",
       "</table>\n",
       "</div>"
      ],
      "text/plain": [
       "   year         winner          jockey      trainer  \\\n",
       "0  2022    Rich Strike      Sonny Leon    Eric Reed   \n",
       "1  2021      Mandaloun  Florent Geroux  Brad H. Cox   \n",
       "2  2020      Authentic  John Velazquez  Bob Baffert   \n",
       "3  2019  Country House    Flavien Prat    Bill Mott   \n",
       "4  2018        Justify   Mike E. Smith  Bob Baffert   \n",
       "\n",
       "                                               owner  distance  \\\n",
       "0                                      RED TR-Racing      1.25   \n",
       "1                                     Juddmonte Farm      1.25   \n",
       "2  Spendthrift Farm LLC, MyRaceHorse Stable, Mada...      1.25   \n",
       "3  Mrs. J.V. Shields Jr., E. J. M. McFadden Jr. a...      1.25   \n",
       "4  China Horse Club, Head of Plains Partners, Sta...      1.25   \n",
       "\n",
       "  track_condition time_string  time_sec  \n",
       "0            Fast     2:02.61    122.61  \n",
       "1            Fast     2:01.02    121.02  \n",
       "2            Fast     2:00.61    120.61  \n",
       "3          Sloppy     2:03.93    123.93  \n",
       "4          Sloppy     2:04.20    124.20  "
      ]
     },
     "execution_count": 3,
     "metadata": {},
     "output_type": "execute_result"
    }
   ],
   "source": [
    "df.head()"
   ]
  },
  {
   "cell_type": "code",
   "execution_count": 4,
   "id": "d3d9cde8",
   "metadata": {},
   "outputs": [
    {
     "name": "stdout",
     "output_type": "stream",
     "text": [
      "<class 'pandas.core.frame.DataFrame'>\n",
      "RangeIndex: 148 entries, 0 to 147\n",
      "Data columns (total 9 columns):\n",
      " #   Column           Non-Null Count  Dtype  \n",
      "---  ------           --------------  -----  \n",
      " 0   year             148 non-null    int64  \n",
      " 1   winner           148 non-null    object \n",
      " 2   jockey           148 non-null    object \n",
      " 3   trainer          148 non-null    object \n",
      " 4   owner            148 non-null    object \n",
      " 5   distance         148 non-null    float64\n",
      " 6   track_condition  148 non-null    object \n",
      " 7   time_string      148 non-null    object \n",
      " 8   time_sec         148 non-null    float64\n",
      "dtypes: float64(2), int64(1), object(6)\n",
      "memory usage: 10.5+ KB\n"
     ]
    }
   ],
   "source": [
    "df.info()"
   ]
  },
  {
   "cell_type": "code",
   "execution_count": 5,
   "id": "aed763c0",
   "metadata": {},
   "outputs": [
    {
     "data": {
      "text/html": [
       "<div>\n",
       "<style scoped>\n",
       "    .dataframe tbody tr th:only-of-type {\n",
       "        vertical-align: middle;\n",
       "    }\n",
       "\n",
       "    .dataframe tbody tr th {\n",
       "        vertical-align: top;\n",
       "    }\n",
       "\n",
       "    .dataframe thead th {\n",
       "        text-align: right;\n",
       "    }\n",
       "</style>\n",
       "<table border=\"1\" class=\"dataframe\">\n",
       "  <thead>\n",
       "    <tr style=\"text-align: right;\">\n",
       "      <th></th>\n",
       "      <th>year</th>\n",
       "      <th>distance</th>\n",
       "      <th>time_sec</th>\n",
       "    </tr>\n",
       "  </thead>\n",
       "  <tbody>\n",
       "    <tr>\n",
       "      <th>count</th>\n",
       "      <td>148.000000</td>\n",
       "      <td>148.000000</td>\n",
       "      <td>148.000000</td>\n",
       "    </tr>\n",
       "    <tr>\n",
       "      <th>mean</th>\n",
       "      <td>1948.500000</td>\n",
       "      <td>1.285473</td>\n",
       "      <td>129.178514</td>\n",
       "    </tr>\n",
       "    <tr>\n",
       "      <th>std</th>\n",
       "      <td>42.868014</td>\n",
       "      <td>0.087531</td>\n",
       "      <td>12.804196</td>\n",
       "    </tr>\n",
       "    <tr>\n",
       "      <th>min</th>\n",
       "      <td>1875.000000</td>\n",
       "      <td>1.250000</td>\n",
       "      <td>119.400000</td>\n",
       "    </tr>\n",
       "    <tr>\n",
       "      <th>25%</th>\n",
       "      <td>1911.750000</td>\n",
       "      <td>1.250000</td>\n",
       "      <td>122.200000</td>\n",
       "    </tr>\n",
       "    <tr>\n",
       "      <th>50%</th>\n",
       "      <td>1948.500000</td>\n",
       "      <td>1.250000</td>\n",
       "      <td>124.000000</td>\n",
       "    </tr>\n",
       "    <tr>\n",
       "      <th>75%</th>\n",
       "      <td>1985.250000</td>\n",
       "      <td>1.250000</td>\n",
       "      <td>128.275000</td>\n",
       "    </tr>\n",
       "    <tr>\n",
       "      <th>max</th>\n",
       "      <td>2022.000000</td>\n",
       "      <td>1.500000</td>\n",
       "      <td>172.250000</td>\n",
       "    </tr>\n",
       "  </tbody>\n",
       "</table>\n",
       "</div>"
      ],
      "text/plain": [
       "              year    distance    time_sec\n",
       "count   148.000000  148.000000  148.000000\n",
       "mean   1948.500000    1.285473  129.178514\n",
       "std      42.868014    0.087531   12.804196\n",
       "min    1875.000000    1.250000  119.400000\n",
       "25%    1911.750000    1.250000  122.200000\n",
       "50%    1948.500000    1.250000  124.000000\n",
       "75%    1985.250000    1.250000  128.275000\n",
       "max    2022.000000    1.500000  172.250000"
      ]
     },
     "execution_count": 5,
     "metadata": {},
     "output_type": "execute_result"
    }
   ],
   "source": [
    "df.describe()"
   ]
  },
  {
   "cell_type": "markdown",
   "id": "0696bde6",
   "metadata": {},
   "source": [
    "## 3. Exploratory Data Analysis"
   ]
  },
  {
   "cell_type": "markdown",
   "id": "52bc22bc",
   "metadata": {},
   "source": [
    "### 3.1 Missing data"
   ]
  },
  {
   "cell_type": "code",
   "execution_count": 6,
   "id": "f83898fd",
   "metadata": {},
   "outputs": [
    {
     "data": {
      "text/plain": [
       "[Text(0.5, 1.0, 'Existent data (purple) and missing data (yellow) ratio')]"
      ]
     },
     "execution_count": 6,
     "metadata": {},
     "output_type": "execute_result"
    },
    {
     "data": {
      "image/png": "[encoded data removed]",
      "text/plain": [
       "<Figure size 432x288 with 1 Axes>"
      ]
     },
     "metadata": {},
     "output_type": "display_data"
    }
   ],
   "source": [
    "sns.heatmap(df.isnull(), yticklabels=False, cbar=False, cmap='viridis').set(title = 'Existent data (purple) and missing data (yellow) ratio')"
   ]
  },
  {
   "cell_type": "markdown",
   "id": "087f3d66",
   "metadata": {},
   "source": [
    "### 3.2 Considering just one time column"
   ]
  },
  {
   "cell_type": "code",
   "execution_count": 7,
   "id": "233e765b",
   "metadata": {},
   "outputs": [
    {
     "data": {
      "text/html": [
       "<div>\n",
       "<style scoped>\n",
       "    .dataframe tbody tr th:only-of-type {\n",
       "        vertical-align: middle;\n",
       "    }\n",
       "\n",
       "    .dataframe tbody tr th {\n",
       "        vertical-align: top;\n",
       "    }\n",
       "\n",
       "    .dataframe thead th {\n",
       "        text-align: right;\n",
       "    }\n",
       "</style>\n",
       "<table border=\"1\" class=\"dataframe\">\n",
       "  <thead>\n",
       "    <tr style=\"text-align: right;\">\n",
       "      <th></th>\n",
       "      <th>year</th>\n",
       "      <th>winner</th>\n",
       "      <th>jockey</th>\n",
       "      <th>trainer</th>\n",
       "      <th>owner</th>\n",
       "      <th>distance</th>\n",
       "      <th>track_condition</th>\n",
       "      <th>time_sec</th>\n",
       "    </tr>\n",
       "  </thead>\n",
       "  <tbody>\n",
       "    <tr>\n",
       "      <th>0</th>\n",
       "      <td>2022</td>\n",
       "      <td>Rich Strike</td>\n",
       "      <td>Sonny Leon</td>\n",
       "      <td>Eric Reed</td>\n",
       "      <td>RED TR-Racing</td>\n",
       "      <td>1.25</td>\n",
       "      <td>Fast</td>\n",
       "      <td>122.61</td>\n",
       "    </tr>\n",
       "  </tbody>\n",
       "</table>\n",
       "</div>"
      ],
      "text/plain": [
       "   year       winner      jockey    trainer          owner  distance  \\\n",
       "0  2022  Rich Strike  Sonny Leon  Eric Reed  RED TR-Racing      1.25   \n",
       "\n",
       "  track_condition  time_sec  \n",
       "0            Fast    122.61  "
      ]
     },
     "execution_count": 7,
     "metadata": {},
     "output_type": "execute_result"
    }
   ],
   "source": [
    "df.drop('time_string', axis=1, inplace=True)\n",
    "df.head(1)"
   ]
  },
  {
   "cell_type": "markdown",
   "id": "ca90bfa6",
   "metadata": {},
   "source": [
    "### 3.3 Features of the distance of the races"
   ]
  },
  {
   "cell_type": "code",
   "execution_count": 8,
   "id": "02580ca1",
   "metadata": {},
   "outputs": [
    {
     "data": {
      "text/plain": [
       "[Text(0.5, 1.0, 'Number of races per race distance')]"
      ]
     },
     "execution_count": 8,
     "metadata": {},
     "output_type": "execute_result"
    },
    {
     "data": {
      "image/png": "[encoded data removed]",
      "text/plain": [
       "<Figure size 720x360 with 1 Axes>"
      ]
     },
     "metadata": {},
     "output_type": "display_data"
    }
   ],
   "source": [
    "plt.figure(figsize=(10,5))\n",
    "sns.countplot(data=df, x='distance', palette='Set1', alpha=0.8).set(title = 'Number of races per race distance')"
   ]
  },
  {
   "cell_type": "code",
   "execution_count": 9,
   "id": "5b3b5fe9",
   "metadata": {},
   "outputs": [
    {
     "data": {
      "text/plain": [
       "[Text(0.5, 1.0, 'Distance of the races through the years')]"
      ]
     },
     "execution_count": 9,
     "metadata": {},
     "output_type": "execute_result"
    },
    {
     "data": {
      "image/png": "[encoded data removed]",
      "text/plain": [
       "<Figure size 720x360 with 1 Axes>"
      ]
     },
     "metadata": {},
     "output_type": "display_data"
    }
   ],
   "source": [
    "plt.figure(figsize=(10,5))\n",
    "sns.lineplot(data=df, x='year', y='distance', color='green', alpha=0.8).set(title = 'Distance of the races through the years')"
   ]
  },
  {
   "cell_type": "code",
   "execution_count": 10,
   "id": "bbdad483",
   "metadata": {},
   "outputs": [
    {
     "data": {
      "text/plain": [
       "[Text(0.5, 1.0, 'Wining time of the races through the years')]"
      ]
     },
     "execution_count": 10,
     "metadata": {},
     "output_type": "execute_result"
    },
    {
     "data": {
      "image/png": "[encoded data removed]",
      "text/plain": [
       "<Figure size 720x360 with 1 Axes>"
      ]
     },
     "metadata": {},
     "output_type": "display_data"
    }
   ],
   "source": [
    "plt.figure(figsize=(10,5))\n",
    "sns.lineplot(data=df, x='year', y='time_sec', color='green', alpha=0.8).set(title = 'Wining time of the races through the years')"
   ]
  },
  {
   "cell_type": "markdown",
   "id": "bb6fb0cd",
   "metadata": {},
   "source": [
    "**It can be noted that almost since 1990, the races have been 1.25 in its distance, therefore, it will be managed the data from that point.**"
   ]
  },
  {
   "cell_type": "markdown",
   "id": "ebb20a55",
   "metadata": {},
   "source": [
    "### 3.4 Considering just the \"1.25\" distance races"
   ]
  },
  {
   "cell_type": "code",
   "execution_count": 11,
   "id": "42ebcef7",
   "metadata": {},
   "outputs": [
    {
     "data": {
      "text/html": [
       "<div>\n",
       "<style scoped>\n",
       "    .dataframe tbody tr th:only-of-type {\n",
       "        vertical-align: middle;\n",
       "    }\n",
       "\n",
       "    .dataframe tbody tr th {\n",
       "        vertical-align: top;\n",
       "    }\n",
       "\n",
       "    .dataframe thead th {\n",
       "        text-align: right;\n",
       "    }\n",
       "</style>\n",
       "<table border=\"1\" class=\"dataframe\">\n",
       "  <thead>\n",
       "    <tr style=\"text-align: right;\">\n",
       "      <th></th>\n",
       "      <th>year</th>\n",
       "      <th>winner</th>\n",
       "      <th>jockey</th>\n",
       "      <th>trainer</th>\n",
       "      <th>owner</th>\n",
       "      <th>distance</th>\n",
       "      <th>track_condition</th>\n",
       "      <th>time_sec</th>\n",
       "    </tr>\n",
       "  </thead>\n",
       "  <tbody>\n",
       "    <tr>\n",
       "      <th>0</th>\n",
       "      <td>1896</td>\n",
       "      <td>Ben Brush</td>\n",
       "      <td>Willie Simms</td>\n",
       "      <td>Hardy Campbell Jr.</td>\n",
       "      <td>Mike F. Dwyer</td>\n",
       "      <td>1.25</td>\n",
       "      <td>Fast</td>\n",
       "      <td>127.75</td>\n",
       "    </tr>\n",
       "    <tr>\n",
       "      <th>1</th>\n",
       "      <td>1897</td>\n",
       "      <td>Typhoon II</td>\n",
       "      <td>Buttons Garner</td>\n",
       "      <td>Julius C. Cahn</td>\n",
       "      <td>Julius C. Cahn</td>\n",
       "      <td>1.25</td>\n",
       "      <td>Heavy</td>\n",
       "      <td>132.50</td>\n",
       "    </tr>\n",
       "    <tr>\n",
       "      <th>2</th>\n",
       "      <td>1898</td>\n",
       "      <td>Plaudit</td>\n",
       "      <td>Willie Simms</td>\n",
       "      <td>John E. Madden</td>\n",
       "      <td>John E. Madden</td>\n",
       "      <td>1.25</td>\n",
       "      <td>Good</td>\n",
       "      <td>129.00</td>\n",
       "    </tr>\n",
       "    <tr>\n",
       "      <th>3</th>\n",
       "      <td>1899</td>\n",
       "      <td>Manuel</td>\n",
       "      <td>Fred Taral</td>\n",
       "      <td>Robert J. Walden</td>\n",
       "      <td>A. H. &amp; D. H. Morris</td>\n",
       "      <td>1.25</td>\n",
       "      <td>Fast</td>\n",
       "      <td>132.00</td>\n",
       "    </tr>\n",
       "    <tr>\n",
       "      <th>4</th>\n",
       "      <td>1900</td>\n",
       "      <td>Lieut. Gibson</td>\n",
       "      <td>Jimmy Boland</td>\n",
       "      <td>Charles H. Hughes</td>\n",
       "      <td>Charles Head Smith</td>\n",
       "      <td>1.25</td>\n",
       "      <td>Fast</td>\n",
       "      <td>126.25</td>\n",
       "    </tr>\n",
       "  </tbody>\n",
       "</table>\n",
       "</div>"
      ],
      "text/plain": [
       "   year         winner          jockey             trainer  \\\n",
       "0  1896      Ben Brush    Willie Simms  Hardy Campbell Jr.   \n",
       "1  1897     Typhoon II  Buttons Garner      Julius C. Cahn   \n",
       "2  1898        Plaudit    Willie Simms      John E. Madden   \n",
       "3  1899         Manuel      Fred Taral    Robert J. Walden   \n",
       "4  1900  Lieut. Gibson    Jimmy Boland   Charles H. Hughes   \n",
       "\n",
       "                  owner  distance track_condition  time_sec  \n",
       "0         Mike F. Dwyer      1.25            Fast    127.75  \n",
       "1        Julius C. Cahn      1.25           Heavy    132.50  \n",
       "2        John E. Madden      1.25            Good    129.00  \n",
       "3  A. H. & D. H. Morris      1.25            Fast    132.00  \n",
       "4    Charles Head Smith      1.25            Fast    126.25  "
      ]
     },
     "execution_count": 11,
     "metadata": {},
     "output_type": "execute_result"
    }
   ],
   "source": [
    "actual = df[df['distance'] == 1.25].sort_values('year').reset_index().drop('index', axis=1)\n",
    "actual.head()"
   ]
  },
  {
   "cell_type": "markdown",
   "id": "e6e83999",
   "metadata": {},
   "source": [
    "### 3.4.1 Analysis of the race times distribution"
   ]
  },
  {
   "cell_type": "code",
   "execution_count": 12,
   "id": "c14b14d9",
   "metadata": {},
   "outputs": [
    {
     "data": {
      "text/plain": [
       "[Text(0.5, 1.0, 'Box Plot of the race times distribution')]"
      ]
     },
     "execution_count": 12,
     "metadata": {},
     "output_type": "execute_result"
    },
    {
     "data": {
      "image/png": "[encoded data removed]",
      "text/plain": [
       "<Figure size 432x576 with 1 Axes>"
      ]
     },
     "metadata": {},
     "output_type": "display_data"
    }
   ],
   "source": [
    "plt.figure(figsize=(6,8))\n",
    "sns.boxplot(y='time_sec', data=actual, palette='Set1').set(title = 'Box Plot of the race times distribution')"
   ]
  },
  {
   "cell_type": "code",
   "execution_count": 13,
   "id": "4c7735fc",
   "metadata": {},
   "outputs": [
    {
     "data": {
      "text/plain": [
       "count    127.0\n",
       "mean     124.1\n",
       "std        3.1\n",
       "min      119.4\n",
       "25%      122.0\n",
       "50%      123.4\n",
       "75%      125.2\n",
       "max      135.2\n",
       "Name: time_sec, dtype: float64"
      ]
     },
     "execution_count": 13,
     "metadata": {},
     "output_type": "execute_result"
    }
   ],
   "source": [
    "actual['time_sec'].describe().round(1)"
   ]
  },
  {
   "cell_type": "markdown",
   "id": "b5765e09",
   "metadata": {},
   "source": [
    "### 3.4.2 Analysis of the number and time races regard the track conditions"
   ]
  },
  {
   "cell_type": "code",
   "execution_count": 14,
   "id": "6107228f",
   "metadata": {},
   "outputs": [
    {
     "data": {
      "image/png": "[encoded data removed]",
      "text/plain": [
       "<Figure size 864x576 with 4 Axes>"
      ]
     },
     "metadata": {},
     "output_type": "display_data"
    }
   ],
   "source": [
    "fig, axes = plt.subplots(nrows=2, ncols=2, figsize=(12,8))\n",
    "\n",
    "# Number of races vs Track conditions\n",
    "axes[0][0].set_title('Number of races vs Track conditions')\n",
    "sns.countplot(ax=axes[0][0], data=actual, x='track_condition', palette='Set1', alpha=0.8)\n",
    "\n",
    "# Race Time vs Track conditions\n",
    "axes[1][0].set_title('Race Time vs Track conditions')\n",
    "sns.barplot(ax=axes[1][0], data=actual, x='track_condition', y='time_sec', palette='Set1', alpha=0.8)\n",
    "\n",
    "# Distribution of race time\n",
    "axes[0][1].set_title('Distribution of race time')\n",
    "sns.histplot(ax=axes[0][1], data=actual, x='time_sec', bins=30, alpha=0.8, kde=True, color='green')\n",
    "\n",
    "# Distribution of race time per Track condition\n",
    "axes[1][1].set_title('Distribution of race time per Track condition')\n",
    "sns.histplot(ax=axes[1][1], data=actual, x='time_sec', bins=35, alpha=0.8, multiple=\"stack\", shrink=.8, hue='track_condition')\n",
    "\n",
    "plt.tight_layout()"
   ]
  },
  {
   "cell_type": "markdown",
   "id": "0066d444",
   "metadata": {},
   "source": [
    "### 3.5 \"winner\", \"jockey\", \"trainer\", and \"owner\" columns analysis"
   ]
  },
  {
   "cell_type": "code",
   "execution_count": 15,
   "id": "bad645bf",
   "metadata": {},
   "outputs": [
    {
     "name": "stdout",
     "output_type": "stream",
     "text": [
      "winner\n",
      "Affirmed       1\n",
      "Rich Strike    1\n",
      "Reigh Count    1\n",
      "Regret         1\n",
      "Real Quiet     1\n",
      "              ..\n",
      "Donerail       1\n",
      "Donau          1\n",
      "Determine      1\n",
      "Gallant Fox    1\n",
      "Zev            1\n",
      "Name: year, Length: 127, dtype: int64 \n",
      "\n",
      "Number of unique data: 127\n",
      "Count of the members of the column: 127\n",
      "Column size: 127\n"
     ]
    }
   ],
   "source": [
    "print(actual.groupby('winner')['year'].count().sort_values(), '\\n')\n",
    "print('Number of unique data:', actual['winner'].nunique())\n",
    "print('Count of the members of the column:', actual['winner'].count())\n",
    "print('Column size:', actual['winner'].size)"
   ]
  },
  {
   "cell_type": "code",
   "execution_count": 16,
   "id": "199210af",
   "metadata": {},
   "outputs": [],
   "source": [
    "data = actual.drop('winner', axis=1)"
   ]
  },
  {
   "cell_type": "markdown",
   "id": "27ce62c8",
   "metadata": {},
   "source": [
    "* Because the count of the unique values, the count of the members of the column, and the column size have the same value, we can assume that the name of every winning horse is different from each other and isn't repeated, therefore, that column will be despised for further considerations."
   ]
  },
  {
   "cell_type": "code",
   "execution_count": 17,
   "id": "49715e3e",
   "metadata": {},
   "outputs": [
    {
     "name": "stdout",
     "output_type": "stream",
     "text": [
      "jockey\n",
      "Eddie Arcaro        5\n",
      "Bill Hartack        5\n",
      "Bill Shoemaker      4\n",
      "Calvin Borel        3\n",
      "Gary Stevens        3\n",
      "                   ..\n",
      "John McCabe         1\n",
      "Charles Thompson    1\n",
      "Johnny Longden      1\n",
      "Johnny Sellers      1\n",
      "Jean Cruguet        1\n",
      "Name: year, Length: 86, dtype: int64 \n",
      "\n",
      "Number of unique data: 86\n",
      "Count of the members of the column: 127\n",
      "Column size: 127\n"
     ]
    }
   ],
   "source": [
    "print(data.groupby('jockey')['year'].count().sort_values(ascending=False), '\\n')\n",
    "print('Number of unique data:', data['jockey'].nunique())\n",
    "print('Count of the members of the column:', data['jockey'].count())\n",
    "print('Column size:', data['jockey'].size)"
   ]
  },
  {
   "cell_type": "code",
   "execution_count": 18,
   "id": "c57d483c",
   "metadata": {},
   "outputs": [
    {
     "name": "stdout",
     "output_type": "stream",
     "text": [
      "trainer\n",
      "Ben A. Jones           6\n",
      "Bob Baffert            6\n",
      "Herbert J. Thompson    4\n",
      "D. Wayne Lukas         4\n",
      "Jim Fitzsimmons        3\n",
      "                      ..\n",
      "Frank M. Taylor        1\n",
      "Frank E. Childs        1\n",
      "Frank D. Weir          1\n",
      "Frank Catrone          1\n",
      "Hugh L. Fontaine       1\n",
      "Name: year, Length: 95, dtype: int64 \n",
      "\n",
      "Number of unique data: 95\n",
      "Count of the members of the column: 127\n",
      "Column size: 127\n"
     ]
    }
   ],
   "source": [
    "print(data.groupby('trainer')['year'].count().sort_values(ascending=False), '\\n')\n",
    "print('Number of unique data:', data['trainer'].nunique())\n",
    "print('Count of the members of the column:', data['trainer'].count())\n",
    "print('Column size:', data['trainer'].size)"
   ]
  },
  {
   "cell_type": "code",
   "execution_count": 19,
   "id": "8de6bb41",
   "metadata": {},
   "outputs": [
    {
     "name": "stdout",
     "output_type": "stream",
     "text": [
      "owner\n",
      "Calumet Farm              8\n",
      "Edward R. Bradley         4\n",
      "Belair Stud               3\n",
      "J. Paul Reddam            2\n",
      "King Ranch                2\n",
      "                         ..\n",
      "Fred & Juliette Turner    1\n",
      "Frank M. McMahon          1\n",
      "Frank B. Van Meter        1\n",
      "Frances A. Genter         1\n",
      "Zayat Stables, LLC        1\n",
      "Name: year, Length: 108, dtype: int64 \n",
      "\n",
      "Number of unique data: 108\n",
      "Count of the members of the column: 127\n",
      "Column size: 127\n"
     ]
    }
   ],
   "source": [
    "print(data.groupby('owner')['year'].count().sort_values(ascending=False), '\\n')\n",
    "print('Number of unique data:', data['owner'].nunique())\n",
    "print('Count of the members of the column:', data['owner'].count())\n",
    "print('Column size:', data['owner'].size)"
   ]
  },
  {
   "cell_type": "markdown",
   "id": "df3ac682",
   "metadata": {},
   "source": [
    "* On the other hand, in the \"jockey\", \"trainer\" and \"owner\" columns, the count of the unique values, the count of the members of the column, and the sizes of the columns have different values, we can assume that sometimes the names in those columns are not different from each other and are repeated, therefore, that columns must be considered as features for predictions."
   ]
  },
  {
   "cell_type": "markdown",
   "id": "4746ec74",
   "metadata": {},
   "source": [
    "## 4. Data transforming"
   ]
  },
  {
   "cell_type": "markdown",
   "id": "291250e3",
   "metadata": {},
   "source": [
    "### 4.1 Assigning an number id to every jockey, trainer and owner"
   ]
  },
  {
   "cell_type": "code",
   "execution_count": 20,
   "id": "faf22d7f",
   "metadata": {},
   "outputs": [
    {
     "data": {
      "text/html": [
       "<div>\n",
       "<style scoped>\n",
       "    .dataframe tbody tr th:only-of-type {\n",
       "        vertical-align: middle;\n",
       "    }\n",
       "\n",
       "    .dataframe tbody tr th {\n",
       "        vertical-align: top;\n",
       "    }\n",
       "\n",
       "    .dataframe thead th {\n",
       "        text-align: right;\n",
       "    }\n",
       "</style>\n",
       "<table border=\"1\" class=\"dataframe\">\n",
       "  <thead>\n",
       "    <tr style=\"text-align: right;\">\n",
       "      <th></th>\n",
       "      <th>jockey_id</th>\n",
       "      <th>jockey</th>\n",
       "    </tr>\n",
       "  </thead>\n",
       "  <tbody>\n",
       "    <tr>\n",
       "      <th>0</th>\n",
       "      <td>1</td>\n",
       "      <td>Albert Johnson</td>\n",
       "    </tr>\n",
       "    <tr>\n",
       "      <th>1</th>\n",
       "      <td>2</td>\n",
       "      <td>Andy Minder</td>\n",
       "    </tr>\n",
       "    <tr>\n",
       "      <th>2</th>\n",
       "      <td>3</td>\n",
       "      <td>Arthur Pickens</td>\n",
       "    </tr>\n",
       "    <tr>\n",
       "      <th>3</th>\n",
       "      <td>4</td>\n",
       "      <td>Bill Hartack</td>\n",
       "    </tr>\n",
       "    <tr>\n",
       "      <th>4</th>\n",
       "      <td>5</td>\n",
       "      <td>Bill Shoemaker</td>\n",
       "    </tr>\n",
       "    <tr>\n",
       "      <th>5</th>\n",
       "      <td>6</td>\n",
       "      <td>Bobby Ussery</td>\n",
       "    </tr>\n",
       "    <tr>\n",
       "      <th>6</th>\n",
       "      <td>7</td>\n",
       "      <td>Braulio Baeza</td>\n",
       "    </tr>\n",
       "    <tr>\n",
       "      <th>7</th>\n",
       "      <td>8</td>\n",
       "      <td>Buttons Garner</td>\n",
       "    </tr>\n",
       "    <tr>\n",
       "      <th>8</th>\n",
       "      <td>9</td>\n",
       "      <td>Calvin Borel</td>\n",
       "    </tr>\n",
       "    <tr>\n",
       "      <th>9</th>\n",
       "      <td>10</td>\n",
       "      <td>Carroll Bierman</td>\n",
       "    </tr>\n",
       "  </tbody>\n",
       "</table>\n",
       "</div>"
      ],
      "text/plain": [
       "   jockey_id           jockey\n",
       "0          1   Albert Johnson\n",
       "1          2      Andy Minder\n",
       "2          3   Arthur Pickens\n",
       "3          4     Bill Hartack\n",
       "4          5   Bill Shoemaker\n",
       "5          6     Bobby Ussery\n",
       "6          7    Braulio Baeza\n",
       "7          8   Buttons Garner\n",
       "8          9     Calvin Borel\n",
       "9         10  Carroll Bierman"
      ]
     },
     "execution_count": 20,
     "metadata": {},
     "output_type": "execute_result"
    }
   ],
   "source": [
    "jockeys = np.sort(data['jockey'].unique(), axis=0)\n",
    "index_jockeys = np.arange(1,len(jockeys)+1)\n",
    "jockey_id = pd.DataFrame({'jockey_id':index_jockeys, 'jockey':jockeys})\n",
    "jockey_id.head(10)"
   ]
  },
  {
   "cell_type": "code",
   "execution_count": 21,
   "id": "e76d10a2",
   "metadata": {},
   "outputs": [
    {
     "data": {
      "text/html": [
       "<div>\n",
       "<style scoped>\n",
       "    .dataframe tbody tr th:only-of-type {\n",
       "        vertical-align: middle;\n",
       "    }\n",
       "\n",
       "    .dataframe tbody tr th {\n",
       "        vertical-align: top;\n",
       "    }\n",
       "\n",
       "    .dataframe thead th {\n",
       "        text-align: right;\n",
       "    }\n",
       "</style>\n",
       "<table border=\"1\" class=\"dataframe\">\n",
       "  <thead>\n",
       "    <tr style=\"text-align: right;\">\n",
       "      <th></th>\n",
       "      <th>trainer_id</th>\n",
       "      <th>trainer</th>\n",
       "    </tr>\n",
       "  </thead>\n",
       "  <tbody>\n",
       "    <tr>\n",
       "      <th>0</th>\n",
       "      <td>1</td>\n",
       "      <td>Albert Ewing</td>\n",
       "    </tr>\n",
       "    <tr>\n",
       "      <th>1</th>\n",
       "      <td>2</td>\n",
       "      <td>Art Sherman</td>\n",
       "    </tr>\n",
       "    <tr>\n",
       "      <th>2</th>\n",
       "      <td>3</td>\n",
       "      <td>Barclay Tagg</td>\n",
       "    </tr>\n",
       "    <tr>\n",
       "      <th>3</th>\n",
       "      <td>4</td>\n",
       "      <td>Ben A. Jones</td>\n",
       "    </tr>\n",
       "    <tr>\n",
       "      <th>4</th>\n",
       "      <td>5</td>\n",
       "      <td>Bennie L. Woolley Jr.</td>\n",
       "    </tr>\n",
       "    <tr>\n",
       "      <th>5</th>\n",
       "      <td>6</td>\n",
       "      <td>Bert S. Michell</td>\n",
       "    </tr>\n",
       "    <tr>\n",
       "      <th>6</th>\n",
       "      <td>7</td>\n",
       "      <td>Bill Mott</td>\n",
       "    </tr>\n",
       "    <tr>\n",
       "      <th>7</th>\n",
       "      <td>8</td>\n",
       "      <td>Bob Baffert</td>\n",
       "    </tr>\n",
       "    <tr>\n",
       "      <th>8</th>\n",
       "      <td>9</td>\n",
       "      <td>Bob Smith</td>\n",
       "    </tr>\n",
       "    <tr>\n",
       "      <th>9</th>\n",
       "      <td>10</td>\n",
       "      <td>Brad H. Cox</td>\n",
       "    </tr>\n",
       "  </tbody>\n",
       "</table>\n",
       "</div>"
      ],
      "text/plain": [
       "   trainer_id                trainer\n",
       "0           1           Albert Ewing\n",
       "1           2            Art Sherman\n",
       "2           3           Barclay Tagg\n",
       "3           4           Ben A. Jones\n",
       "4           5  Bennie L. Woolley Jr.\n",
       "5           6        Bert S. Michell\n",
       "6           7              Bill Mott\n",
       "7           8            Bob Baffert\n",
       "8           9              Bob Smith\n",
       "9          10            Brad H. Cox"
      ]
     },
     "execution_count": 21,
     "metadata": {},
     "output_type": "execute_result"
    }
   ],
   "source": [
    "trainers = np.sort(data['trainer'].unique(), axis=0)\n",
    "index_trainers = np.arange(1, len(trainers)+1)\n",
    "trainer_id = pd.DataFrame({'trainer_id':index_trainers, 'trainer':trainers})\n",
    "trainer_id.head(10)"
   ]
  },
  {
   "cell_type": "code",
   "execution_count": 22,
   "id": "bb15a142",
   "metadata": {},
   "outputs": [
    {
     "data": {
      "text/html": [
       "<div>\n",
       "<style scoped>\n",
       "    .dataframe tbody tr th:only-of-type {\n",
       "        vertical-align: middle;\n",
       "    }\n",
       "\n",
       "    .dataframe tbody tr th {\n",
       "        vertical-align: top;\n",
       "    }\n",
       "\n",
       "    .dataframe thead th {\n",
       "        text-align: right;\n",
       "    }\n",
       "</style>\n",
       "<table border=\"1\" class=\"dataframe\">\n",
       "  <thead>\n",
       "    <tr style=\"text-align: right;\">\n",
       "      <th></th>\n",
       "      <th>owner_id</th>\n",
       "      <th>owner</th>\n",
       "    </tr>\n",
       "  </thead>\n",
       "  <tbody>\n",
       "    <tr>\n",
       "      <th>0</th>\n",
       "      <td>1</td>\n",
       "      <td>A. H. &amp; D. H. Morris</td>\n",
       "    </tr>\n",
       "    <tr>\n",
       "      <th>1</th>\n",
       "      <td>2</td>\n",
       "      <td>Ada L. Rice</td>\n",
       "    </tr>\n",
       "    <tr>\n",
       "      <th>2</th>\n",
       "      <td>3</td>\n",
       "      <td>Andrew J. Crevolin</td>\n",
       "    </tr>\n",
       "    <tr>\n",
       "      <th>3</th>\n",
       "      <td>4</td>\n",
       "      <td>BCC Stable</td>\n",
       "    </tr>\n",
       "    <tr>\n",
       "      <th>4</th>\n",
       "      <td>5</td>\n",
       "      <td>Bashford Manor Stable</td>\n",
       "    </tr>\n",
       "    <tr>\n",
       "      <th>5</th>\n",
       "      <td>6</td>\n",
       "      <td>Belair Stud</td>\n",
       "    </tr>\n",
       "    <tr>\n",
       "      <th>6</th>\n",
       "      <td>7</td>\n",
       "      <td>Benjamin Block</td>\n",
       "    </tr>\n",
       "    <tr>\n",
       "      <th>7</th>\n",
       "      <td>8</td>\n",
       "      <td>Billings &amp; Johnson</td>\n",
       "    </tr>\n",
       "    <tr>\n",
       "      <th>8</th>\n",
       "      <td>9</td>\n",
       "      <td>Bob &amp; Beverly Lewis</td>\n",
       "    </tr>\n",
       "    <tr>\n",
       "      <th>9</th>\n",
       "      <td>10</td>\n",
       "      <td>Brookmeade Stable</td>\n",
       "    </tr>\n",
       "  </tbody>\n",
       "</table>\n",
       "</div>"
      ],
      "text/plain": [
       "   owner_id                  owner\n",
       "0         1   A. H. & D. H. Morris\n",
       "1         2            Ada L. Rice\n",
       "2         3     Andrew J. Crevolin\n",
       "3         4             BCC Stable\n",
       "4         5  Bashford Manor Stable\n",
       "5         6            Belair Stud\n",
       "6         7         Benjamin Block\n",
       "7         8     Billings & Johnson\n",
       "8         9    Bob & Beverly Lewis\n",
       "9        10      Brookmeade Stable"
      ]
     },
     "execution_count": 22,
     "metadata": {},
     "output_type": "execute_result"
    }
   ],
   "source": [
    "owners = np.sort(data['owner'].unique(), axis=0)\n",
    "index_owners = np.arange(1, len(owners)+1)\n",
    "owner_id = pd.DataFrame({'owner_id':index_owners, 'owner':owners})\n",
    "owner_id.head(10)"
   ]
  },
  {
   "cell_type": "markdown",
   "id": "39da621e",
   "metadata": {},
   "source": [
    "### 4.2 Merging the numbers id's with the principal data frame"
   ]
  },
  {
   "cell_type": "code",
   "execution_count": 23,
   "id": "2241a5af",
   "metadata": {},
   "outputs": [
    {
     "data": {
      "text/html": [
       "<div>\n",
       "<style scoped>\n",
       "    .dataframe tbody tr th:only-of-type {\n",
       "        vertical-align: middle;\n",
       "    }\n",
       "\n",
       "    .dataframe tbody tr th {\n",
       "        vertical-align: top;\n",
       "    }\n",
       "\n",
       "    .dataframe thead th {\n",
       "        text-align: right;\n",
       "    }\n",
       "</style>\n",
       "<table border=\"1\" class=\"dataframe\">\n",
       "  <thead>\n",
       "    <tr style=\"text-align: right;\">\n",
       "      <th></th>\n",
       "      <th>jockey</th>\n",
       "      <th>jockey_id</th>\n",
       "      <th>trainer</th>\n",
       "      <th>trainer_id</th>\n",
       "      <th>owner</th>\n",
       "      <th>owner_id</th>\n",
       "    </tr>\n",
       "  </thead>\n",
       "  <tbody>\n",
       "    <tr>\n",
       "      <th>0</th>\n",
       "      <td>Willie Simms</td>\n",
       "      <td>85</td>\n",
       "      <td>Hardy Campbell Jr.</td>\n",
       "      <td>42</td>\n",
       "      <td>Mike F. Dwyer</td>\n",
       "      <td>78</td>\n",
       "    </tr>\n",
       "    <tr>\n",
       "      <th>1</th>\n",
       "      <td>Willie Simms</td>\n",
       "      <td>85</td>\n",
       "      <td>John E. Madden</td>\n",
       "      <td>58</td>\n",
       "      <td>John E. Madden</td>\n",
       "      <td>61</td>\n",
       "    </tr>\n",
       "    <tr>\n",
       "      <th>2</th>\n",
       "      <td>Buttons Garner</td>\n",
       "      <td>8</td>\n",
       "      <td>Julius C. Cahn</td>\n",
       "      <td>67</td>\n",
       "      <td>Julius C. Cahn</td>\n",
       "      <td>66</td>\n",
       "    </tr>\n",
       "    <tr>\n",
       "      <th>3</th>\n",
       "      <td>Fred Taral</td>\n",
       "      <td>31</td>\n",
       "      <td>Robert J. Walden</td>\n",
       "      <td>81</td>\n",
       "      <td>A. H. &amp; D. H. Morris</td>\n",
       "      <td>1</td>\n",
       "    </tr>\n",
       "    <tr>\n",
       "      <th>4</th>\n",
       "      <td>Jimmy Boland</td>\n",
       "      <td>46</td>\n",
       "      <td>Charles H. Hughes</td>\n",
       "      <td>15</td>\n",
       "      <td>Charles Head Smith</td>\n",
       "      <td>15</td>\n",
       "    </tr>\n",
       "    <tr>\n",
       "      <th>5</th>\n",
       "      <td>Jimmy Winkfield</td>\n",
       "      <td>47</td>\n",
       "      <td>Frank B. Van Meter</td>\n",
       "      <td>30</td>\n",
       "      <td>Frank B. Van Meter</td>\n",
       "      <td>35</td>\n",
       "    </tr>\n",
       "    <tr>\n",
       "      <th>6</th>\n",
       "      <td>Jimmy Winkfield</td>\n",
       "      <td>47</td>\n",
       "      <td>Thomas C. McDowell</td>\n",
       "      <td>85</td>\n",
       "      <td>Thomas C. McDowell</td>\n",
       "      <td>99</td>\n",
       "    </tr>\n",
       "    <tr>\n",
       "      <th>7</th>\n",
       "      <td>Harold Booker</td>\n",
       "      <td>36</td>\n",
       "      <td>John P. Mayberry</td>\n",
       "      <td>61</td>\n",
       "      <td>Charles R. Ellison</td>\n",
       "      <td>16</td>\n",
       "    </tr>\n",
       "    <tr>\n",
       "      <th>8</th>\n",
       "      <td>Shorty Prior</td>\n",
       "      <td>72</td>\n",
       "      <td>Charles E. Durnell</td>\n",
       "      <td>14</td>\n",
       "      <td>Lasca Durnell</td>\n",
       "      <td>71</td>\n",
       "    </tr>\n",
       "    <tr>\n",
       "      <th>9</th>\n",
       "      <td>Jack Martin</td>\n",
       "      <td>42</td>\n",
       "      <td>Robert Tucker</td>\n",
       "      <td>82</td>\n",
       "      <td>Samuel S. Brown</td>\n",
       "      <td>92</td>\n",
       "    </tr>\n",
       "  </tbody>\n",
       "</table>\n",
       "</div>"
      ],
      "text/plain": [
       "            jockey  jockey_id             trainer  trainer_id  \\\n",
       "0     Willie Simms         85  Hardy Campbell Jr.          42   \n",
       "1     Willie Simms         85      John E. Madden          58   \n",
       "2   Buttons Garner          8      Julius C. Cahn          67   \n",
       "3       Fred Taral         31    Robert J. Walden          81   \n",
       "4     Jimmy Boland         46   Charles H. Hughes          15   \n",
       "5  Jimmy Winkfield         47  Frank B. Van Meter          30   \n",
       "6  Jimmy Winkfield         47  Thomas C. McDowell          85   \n",
       "7    Harold Booker         36    John P. Mayberry          61   \n",
       "8     Shorty Prior         72  Charles E. Durnell          14   \n",
       "9      Jack Martin         42       Robert Tucker          82   \n",
       "\n",
       "                  owner  owner_id  \n",
       "0         Mike F. Dwyer        78  \n",
       "1        John E. Madden        61  \n",
       "2        Julius C. Cahn        66  \n",
       "3  A. H. & D. H. Morris         1  \n",
       "4    Charles Head Smith        15  \n",
       "5    Frank B. Van Meter        35  \n",
       "6    Thomas C. McDowell        99  \n",
       "7    Charles R. Ellison        16  \n",
       "8         Lasca Durnell        71  \n",
       "9       Samuel S. Brown        92  "
      ]
     },
     "execution_count": 23,
     "metadata": {},
     "output_type": "execute_result"
    }
   ],
   "source": [
    "dfp = pd.merge(data, jockey_id, how='inner', on='jockey')\n",
    "dfp = pd.merge(dfp, trainer_id, how='inner', on='trainer')\n",
    "dfp = pd.merge(dfp, owner_id, how='inner', on='owner')\n",
    "dfp[['jockey', 'jockey_id', 'trainer', 'trainer_id', 'owner', 'owner_id']].head(10)"
   ]
  },
  {
   "cell_type": "code",
   "execution_count": 24,
   "id": "f035d59d",
   "metadata": {},
   "outputs": [
    {
     "data": {
      "text/html": [
       "<div>\n",
       "<style scoped>\n",
       "    .dataframe tbody tr th:only-of-type {\n",
       "        vertical-align: middle;\n",
       "    }\n",
       "\n",
       "    .dataframe tbody tr th {\n",
       "        vertical-align: top;\n",
       "    }\n",
       "\n",
       "    .dataframe thead th {\n",
       "        text-align: right;\n",
       "    }\n",
       "</style>\n",
       "<table border=\"1\" class=\"dataframe\">\n",
       "  <thead>\n",
       "    <tr style=\"text-align: right;\">\n",
       "      <th></th>\n",
       "      <th>year</th>\n",
       "      <th>jockey</th>\n",
       "      <th>trainer</th>\n",
       "      <th>owner</th>\n",
       "      <th>distance</th>\n",
       "      <th>track_condition</th>\n",
       "      <th>time_sec</th>\n",
       "      <th>jockey_id</th>\n",
       "      <th>trainer_id</th>\n",
       "      <th>owner_id</th>\n",
       "    </tr>\n",
       "  </thead>\n",
       "  <tbody>\n",
       "    <tr>\n",
       "      <th>0</th>\n",
       "      <td>1896</td>\n",
       "      <td>Willie Simms</td>\n",
       "      <td>Hardy Campbell Jr.</td>\n",
       "      <td>Mike F. Dwyer</td>\n",
       "      <td>1.25</td>\n",
       "      <td>Fast</td>\n",
       "      <td>127.75</td>\n",
       "      <td>85</td>\n",
       "      <td>42</td>\n",
       "      <td>78</td>\n",
       "    </tr>\n",
       "    <tr>\n",
       "      <th>1</th>\n",
       "      <td>1898</td>\n",
       "      <td>Willie Simms</td>\n",
       "      <td>John E. Madden</td>\n",
       "      <td>John E. Madden</td>\n",
       "      <td>1.25</td>\n",
       "      <td>Good</td>\n",
       "      <td>129.00</td>\n",
       "      <td>85</td>\n",
       "      <td>58</td>\n",
       "      <td>61</td>\n",
       "    </tr>\n",
       "    <tr>\n",
       "      <th>2</th>\n",
       "      <td>1897</td>\n",
       "      <td>Buttons Garner</td>\n",
       "      <td>Julius C. Cahn</td>\n",
       "      <td>Julius C. Cahn</td>\n",
       "      <td>1.25</td>\n",
       "      <td>Heavy</td>\n",
       "      <td>132.50</td>\n",
       "      <td>8</td>\n",
       "      <td>67</td>\n",
       "      <td>66</td>\n",
       "    </tr>\n",
       "    <tr>\n",
       "      <th>3</th>\n",
       "      <td>1899</td>\n",
       "      <td>Fred Taral</td>\n",
       "      <td>Robert J. Walden</td>\n",
       "      <td>A. H. &amp; D. H. Morris</td>\n",
       "      <td>1.25</td>\n",
       "      <td>Fast</td>\n",
       "      <td>132.00</td>\n",
       "      <td>31</td>\n",
       "      <td>81</td>\n",
       "      <td>1</td>\n",
       "    </tr>\n",
       "    <tr>\n",
       "      <th>4</th>\n",
       "      <td>1900</td>\n",
       "      <td>Jimmy Boland</td>\n",
       "      <td>Charles H. Hughes</td>\n",
       "      <td>Charles Head Smith</td>\n",
       "      <td>1.25</td>\n",
       "      <td>Fast</td>\n",
       "      <td>126.25</td>\n",
       "      <td>46</td>\n",
       "      <td>15</td>\n",
       "      <td>15</td>\n",
       "    </tr>\n",
       "  </tbody>\n",
       "</table>\n",
       "</div>"
      ],
      "text/plain": [
       "   year          jockey             trainer                 owner  distance  \\\n",
       "0  1896    Willie Simms  Hardy Campbell Jr.         Mike F. Dwyer      1.25   \n",
       "1  1898    Willie Simms      John E. Madden        John E. Madden      1.25   \n",
       "2  1897  Buttons Garner      Julius C. Cahn        Julius C. Cahn      1.25   \n",
       "3  1899      Fred Taral    Robert J. Walden  A. H. & D. H. Morris      1.25   \n",
       "4  1900    Jimmy Boland   Charles H. Hughes    Charles Head Smith      1.25   \n",
       "\n",
       "  track_condition  time_sec  jockey_id  trainer_id  owner_id  \n",
       "0            Fast    127.75         85          42        78  \n",
       "1            Good    129.00         85          58        61  \n",
       "2           Heavy    132.50          8          67        66  \n",
       "3            Fast    132.00         31          81         1  \n",
       "4            Fast    126.25         46          15        15  "
      ]
     },
     "execution_count": 24,
     "metadata": {},
     "output_type": "execute_result"
    }
   ],
   "source": [
    "dfp.head()"
   ]
  },
  {
   "cell_type": "markdown",
   "id": "12aa5a73",
   "metadata": {},
   "source": [
    "* In this point we already have the names of the jockeys, trainers and owners related with a specific id number, so it is not need the logged names anymore for further steps."
   ]
  },
  {
   "cell_type": "code",
   "execution_count": 25,
   "id": "607ebf79",
   "metadata": {},
   "outputs": [
    {
     "data": {
      "text/html": [
       "<div>\n",
       "<style scoped>\n",
       "    .dataframe tbody tr th:only-of-type {\n",
       "        vertical-align: middle;\n",
       "    }\n",
       "\n",
       "    .dataframe tbody tr th {\n",
       "        vertical-align: top;\n",
       "    }\n",
       "\n",
       "    .dataframe thead th {\n",
       "        text-align: right;\n",
       "    }\n",
       "</style>\n",
       "<table border=\"1\" class=\"dataframe\">\n",
       "  <thead>\n",
       "    <tr style=\"text-align: right;\">\n",
       "      <th></th>\n",
       "      <th>jockey_id</th>\n",
       "      <th>trainer_id</th>\n",
       "      <th>owner_id</th>\n",
       "      <th>track_condition</th>\n",
       "      <th>time_sec</th>\n",
       "    </tr>\n",
       "  </thead>\n",
       "  <tbody>\n",
       "    <tr>\n",
       "      <th>0</th>\n",
       "      <td>85</td>\n",
       "      <td>42</td>\n",
       "      <td>78</td>\n",
       "      <td>Fast</td>\n",
       "      <td>127.75</td>\n",
       "    </tr>\n",
       "    <tr>\n",
       "      <th>1</th>\n",
       "      <td>85</td>\n",
       "      <td>58</td>\n",
       "      <td>61</td>\n",
       "      <td>Good</td>\n",
       "      <td>129.00</td>\n",
       "    </tr>\n",
       "    <tr>\n",
       "      <th>2</th>\n",
       "      <td>8</td>\n",
       "      <td>67</td>\n",
       "      <td>66</td>\n",
       "      <td>Heavy</td>\n",
       "      <td>132.50</td>\n",
       "    </tr>\n",
       "    <tr>\n",
       "      <th>3</th>\n",
       "      <td>31</td>\n",
       "      <td>81</td>\n",
       "      <td>1</td>\n",
       "      <td>Fast</td>\n",
       "      <td>132.00</td>\n",
       "    </tr>\n",
       "    <tr>\n",
       "      <th>4</th>\n",
       "      <td>46</td>\n",
       "      <td>15</td>\n",
       "      <td>15</td>\n",
       "      <td>Fast</td>\n",
       "      <td>126.25</td>\n",
       "    </tr>\n",
       "  </tbody>\n",
       "</table>\n",
       "</div>"
      ],
      "text/plain": [
       "   jockey_id  trainer_id  owner_id track_condition  time_sec\n",
       "0         85          42        78            Fast    127.75\n",
       "1         85          58        61            Good    129.00\n",
       "2          8          67        66           Heavy    132.50\n",
       "3         31          81         1            Fast    132.00\n",
       "4         46          15        15            Fast    126.25"
      ]
     },
     "execution_count": 25,
     "metadata": {},
     "output_type": "execute_result"
    }
   ],
   "source": [
    "derby = dfp.drop(['distance', 'year', 'jockey', 'trainer', 'owner'], axis=1)[['jockey_id', 'trainer_id', 'owner_id', 'track_condition', 'time_sec']]\n",
    "derby.head()"
   ]
  },
  {
   "cell_type": "markdown",
   "id": "2ac08018",
   "metadata": {},
   "source": [
    "### 4.3 Converting the track conditions to a numeric class "
   ]
  },
  {
   "cell_type": "code",
   "execution_count": 26,
   "id": "28cbca0b",
   "metadata": {},
   "outputs": [
    {
     "data": {
      "text/html": [
       "<div>\n",
       "<style scoped>\n",
       "    .dataframe tbody tr th:only-of-type {\n",
       "        vertical-align: middle;\n",
       "    }\n",
       "\n",
       "    .dataframe tbody tr th {\n",
       "        vertical-align: top;\n",
       "    }\n",
       "\n",
       "    .dataframe thead th {\n",
       "        text-align: right;\n",
       "    }\n",
       "</style>\n",
       "<table border=\"1\" class=\"dataframe\">\n",
       "  <thead>\n",
       "    <tr style=\"text-align: right;\">\n",
       "      <th></th>\n",
       "      <th>jockey_id</th>\n",
       "      <th>trainer_id</th>\n",
       "      <th>owner_id</th>\n",
       "      <th>track_condition</th>\n",
       "      <th>time_sec</th>\n",
       "    </tr>\n",
       "  </thead>\n",
       "  <tbody>\n",
       "    <tr>\n",
       "      <th>0</th>\n",
       "      <td>85</td>\n",
       "      <td>42</td>\n",
       "      <td>78</td>\n",
       "      <td>1</td>\n",
       "      <td>127.75</td>\n",
       "    </tr>\n",
       "    <tr>\n",
       "      <th>1</th>\n",
       "      <td>85</td>\n",
       "      <td>58</td>\n",
       "      <td>61</td>\n",
       "      <td>2</td>\n",
       "      <td>129.00</td>\n",
       "    </tr>\n",
       "    <tr>\n",
       "      <th>2</th>\n",
       "      <td>8</td>\n",
       "      <td>67</td>\n",
       "      <td>66</td>\n",
       "      <td>3</td>\n",
       "      <td>132.50</td>\n",
       "    </tr>\n",
       "    <tr>\n",
       "      <th>3</th>\n",
       "      <td>31</td>\n",
       "      <td>81</td>\n",
       "      <td>1</td>\n",
       "      <td>1</td>\n",
       "      <td>132.00</td>\n",
       "    </tr>\n",
       "    <tr>\n",
       "      <th>4</th>\n",
       "      <td>46</td>\n",
       "      <td>15</td>\n",
       "      <td>15</td>\n",
       "      <td>1</td>\n",
       "      <td>126.25</td>\n",
       "    </tr>\n",
       "  </tbody>\n",
       "</table>\n",
       "</div>"
      ],
      "text/plain": [
       "   jockey_id  trainer_id  owner_id  track_condition  time_sec\n",
       "0         85          42        78                1    127.75\n",
       "1         85          58        61                2    129.00\n",
       "2          8          67        66                3    132.50\n",
       "3         31          81         1                1    132.00\n",
       "4         46          15        15                1    126.25"
      ]
     },
     "execution_count": 26,
     "metadata": {},
     "output_type": "execute_result"
    }
   ],
   "source": [
    "tracks = {'Fast': 1, 'Good': 2, 'Heavy': 3, 'Muddy': 4, 'Sloppy': 5, 'Slow': 6, 'Wet Fast (sealed)': 7}\n",
    "derby['track_condition'] = derby['track_condition'].map(tracks)\n",
    "derby.head()"
   ]
  },
  {
   "cell_type": "markdown",
   "id": "669a2572",
   "metadata": {},
   "source": [
    "### 4.4 Creation of the target times"
   ]
  },
  {
   "cell_type": "markdown",
   "id": "5fd89466",
   "metadata": {},
   "source": [
    "* In this step, the races time in seconds will be transformed to a numeric classes based on the quartiles of the races time distribution.\n",
    "* These classes are going to be the target classes to predict in the model, making the model able to predict if a horse would perform a great race time or not.\n",
    "* Being 1 a \"great\" race time and 4 a \"bad\" race."
   ]
  },
  {
   "cell_type": "code",
   "execution_count": 27,
   "id": "03289933",
   "metadata": {},
   "outputs": [
    {
     "data": {
      "text/html": [
       "<div>\n",
       "<style scoped>\n",
       "    .dataframe tbody tr th:only-of-type {\n",
       "        vertical-align: middle;\n",
       "    }\n",
       "\n",
       "    .dataframe tbody tr th {\n",
       "        vertical-align: top;\n",
       "    }\n",
       "\n",
       "    .dataframe thead th {\n",
       "        text-align: right;\n",
       "    }\n",
       "</style>\n",
       "<table border=\"1\" class=\"dataframe\">\n",
       "  <thead>\n",
       "    <tr style=\"text-align: right;\">\n",
       "      <th></th>\n",
       "      <th>jockey_id</th>\n",
       "      <th>trainer_id</th>\n",
       "      <th>owner_id</th>\n",
       "      <th>track_condition</th>\n",
       "      <th>time_sec</th>\n",
       "      <th>target_times</th>\n",
       "    </tr>\n",
       "  </thead>\n",
       "  <tbody>\n",
       "    <tr>\n",
       "      <th>0</th>\n",
       "      <td>85</td>\n",
       "      <td>42</td>\n",
       "      <td>78</td>\n",
       "      <td>1</td>\n",
       "      <td>127.75</td>\n",
       "      <td>4</td>\n",
       "    </tr>\n",
       "    <tr>\n",
       "      <th>1</th>\n",
       "      <td>85</td>\n",
       "      <td>58</td>\n",
       "      <td>61</td>\n",
       "      <td>2</td>\n",
       "      <td>129.00</td>\n",
       "      <td>4</td>\n",
       "    </tr>\n",
       "    <tr>\n",
       "      <th>2</th>\n",
       "      <td>8</td>\n",
       "      <td>67</td>\n",
       "      <td>66</td>\n",
       "      <td>3</td>\n",
       "      <td>132.50</td>\n",
       "      <td>4</td>\n",
       "    </tr>\n",
       "    <tr>\n",
       "      <th>3</th>\n",
       "      <td>31</td>\n",
       "      <td>81</td>\n",
       "      <td>1</td>\n",
       "      <td>1</td>\n",
       "      <td>132.00</td>\n",
       "      <td>4</td>\n",
       "    </tr>\n",
       "    <tr>\n",
       "      <th>4</th>\n",
       "      <td>46</td>\n",
       "      <td>15</td>\n",
       "      <td>15</td>\n",
       "      <td>1</td>\n",
       "      <td>126.25</td>\n",
       "      <td>4</td>\n",
       "    </tr>\n",
       "  </tbody>\n",
       "</table>\n",
       "</div>"
      ],
      "text/plain": [
       "   jockey_id  trainer_id  owner_id  track_condition  time_sec  target_times\n",
       "0         85          42        78                1    127.75             4\n",
       "1         85          58        61                2    129.00             4\n",
       "2          8          67        66                3    132.50             4\n",
       "3         31          81         1                1    132.00             4\n",
       "4         46          15        15                1    126.25             4"
      ]
     },
     "execution_count": 27,
     "metadata": {},
     "output_type": "execute_result"
    }
   ],
   "source": [
    "a = []\n",
    "\n",
    "for i in derby['time_sec']:\n",
    "    if i <= np.quantile(derby['time_sec'], 0.25):\n",
    "        i = 1\n",
    "    elif (i > np.quantile(derby['time_sec'], 0.25)) & (i <= np.median(derby['time_sec'])):\n",
    "        i = 2\n",
    "    elif (i > np.median(derby['time_sec'])) & (i <= np.quantile(derby['time_sec'], 0.75)):\n",
    "        i = 3\n",
    "    else:\n",
    "        i = 4\n",
    "\n",
    "    a.append(i)\n",
    "    \n",
    "derby['target_times'] = a\n",
    "derby.head()"
   ]
  },
  {
   "cell_type": "code",
   "execution_count": 28,
   "id": "b4481945",
   "metadata": {},
   "outputs": [
    {
     "data": {
      "text/html": [
       "<div>\n",
       "<style scoped>\n",
       "    .dataframe tbody tr th:only-of-type {\n",
       "        vertical-align: middle;\n",
       "    }\n",
       "\n",
       "    .dataframe tbody tr th {\n",
       "        vertical-align: top;\n",
       "    }\n",
       "\n",
       "    .dataframe thead th {\n",
       "        text-align: right;\n",
       "    }\n",
       "</style>\n",
       "<table border=\"1\" class=\"dataframe\">\n",
       "  <thead>\n",
       "    <tr style=\"text-align: right;\">\n",
       "      <th></th>\n",
       "      <th>jockey_id</th>\n",
       "      <th>trainer_id</th>\n",
       "      <th>owner_id</th>\n",
       "      <th>track_condition</th>\n",
       "      <th>target_times</th>\n",
       "    </tr>\n",
       "  </thead>\n",
       "  <tbody>\n",
       "    <tr>\n",
       "      <th>0</th>\n",
       "      <td>85</td>\n",
       "      <td>42</td>\n",
       "      <td>78</td>\n",
       "      <td>1</td>\n",
       "      <td>4</td>\n",
       "    </tr>\n",
       "    <tr>\n",
       "      <th>1</th>\n",
       "      <td>85</td>\n",
       "      <td>58</td>\n",
       "      <td>61</td>\n",
       "      <td>2</td>\n",
       "      <td>4</td>\n",
       "    </tr>\n",
       "    <tr>\n",
       "      <th>2</th>\n",
       "      <td>8</td>\n",
       "      <td>67</td>\n",
       "      <td>66</td>\n",
       "      <td>3</td>\n",
       "      <td>4</td>\n",
       "    </tr>\n",
       "    <tr>\n",
       "      <th>3</th>\n",
       "      <td>31</td>\n",
       "      <td>81</td>\n",
       "      <td>1</td>\n",
       "      <td>1</td>\n",
       "      <td>4</td>\n",
       "    </tr>\n",
       "    <tr>\n",
       "      <th>4</th>\n",
       "      <td>46</td>\n",
       "      <td>15</td>\n",
       "      <td>15</td>\n",
       "      <td>1</td>\n",
       "      <td>4</td>\n",
       "    </tr>\n",
       "  </tbody>\n",
       "</table>\n",
       "</div>"
      ],
      "text/plain": [
       "   jockey_id  trainer_id  owner_id  track_condition  target_times\n",
       "0         85          42        78                1             4\n",
       "1         85          58        61                2             4\n",
       "2          8          67        66                3             4\n",
       "3         31          81         1                1             4\n",
       "4         46          15        15                1             4"
      ]
     },
     "execution_count": 28,
     "metadata": {},
     "output_type": "execute_result"
    }
   ],
   "source": [
    "derby = derby.drop('time_sec', axis=1)\n",
    "derby.head()"
   ]
  },
  {
   "cell_type": "markdown",
   "id": "fb1b7cbe",
   "metadata": {},
   "source": [
    "* At this point, it is already have the data ready to create and fit a model, to perform the wanted predictions later, but let's see a little more data visualization with these new transformed columns."
   ]
  },
  {
   "cell_type": "code",
   "execution_count": 78,
   "id": "ab1c31a5",
   "metadata": {},
   "outputs": [
    {
     "data": {
      "text/plain": [
       "[Text(0.5, 1.0, 'Correlation between columns')]"
      ]
     },
     "execution_count": 78,
     "metadata": {},
     "output_type": "execute_result"
    },
    {
     "data": {
      "image/png": "[encoded data removed]",
      "text/plain": [
       "<Figure size 432x288 with 2 Axes>"
      ]
     },
     "metadata": {},
     "output_type": "display_data"
    }
   ],
   "source": [
    "corr = derby.corr()\n",
    "sns.heatmap(corr, cmap='coolwarm', annot=True).set(title = 'Correlation between columns')"
   ]
  },
  {
   "cell_type": "code",
   "execution_count": 79,
   "id": "694f7e6c",
   "metadata": {},
   "outputs": [
    {
     "data": {
      "text/plain": [
       "[Text(0.5, 1.0, 'Team Member Mapping')]"
      ]
     },
     "execution_count": 79,
     "metadata": {},
     "output_type": "execute_result"
    },
    {
     "data": {
      "image/png": "[encoded data removed]",
      "text/plain": [
       "<Figure size 432x288 with 2 Axes>"
      ]
     },
     "metadata": {},
     "output_type": "display_data"
    }
   ],
   "source": [
    "teams = derby[['jockey_id', 'trainer_id', 'owner_id']].corr()\n",
    "sns.heatmap(teams, cmap='coolwarm', annot=True).set(title = 'Team Member Mapping')"
   ]
  },
  {
   "cell_type": "code",
   "execution_count": 82,
   "id": "424bd041",
   "metadata": {},
   "outputs": [
    {
     "data": {
      "text/plain": [
       "[Text(0.5, 1.0, 'Times distribution between quartiles')]"
      ]
     },
     "execution_count": 82,
     "metadata": {},
     "output_type": "execute_result"
    },
    {
     "data": {
      "image/png": "[encoded data removed]",
      "text/plain": [
       "<Figure size 432x288 with 1 Axes>"
      ]
     },
     "metadata": {},
     "output_type": "display_data"
    }
   ],
   "source": [
    "sns.countplot(data=derby, x='target_times', alpha=0.8).set(title = 'Times distribution between quartiles')"
   ]
  },
  {
   "cell_type": "markdown",
   "id": "dc192bf9",
   "metadata": {},
   "source": [
    "## 5. Building model"
   ]
  },
  {
   "cell_type": "markdown",
   "id": "f568b1e4",
   "metadata": {},
   "source": [
    "* Now it's time to create a model, for this case, due to the features of the target classes, it will be used a K-Nearest Neighbors model.\n",
    "* Then, in this same section, the model will be adjusted in its number of neighbors through the \"Elbow method\".\n",
    "* Finally, it will be measured the model improvement regard the adjustment."
   ]
  },
  {
   "cell_type": "markdown",
   "id": "ef2c242f",
   "metadata": {},
   "source": [
    "### 5.1 Standardized of the data"
   ]
  },
  {
   "cell_type": "code",
   "execution_count": 29,
   "id": "5f08e391",
   "metadata": {},
   "outputs": [],
   "source": [
    "scaler = SS()\n",
    "scaler.fit(derby.drop('target_times', axis=1))\n",
    "scaled_features = scaler.transform(derby.drop('target_times', axis=1))"
   ]
  },
  {
   "cell_type": "markdown",
   "id": "8ad78df3",
   "metadata": {},
   "source": [
    "### 5.2 Data splitting"
   ]
  },
  {
   "cell_type": "code",
   "execution_count": 30,
   "id": "dbf85793",
   "metadata": {},
   "outputs": [],
   "source": [
    "x = scaled_features\n",
    "y = derby['target_times']\n",
    "\n",
    "x_train, x_test, y_train, y_test = tts(x, y, test_size=0.33, random_state=101)"
   ]
  },
  {
   "cell_type": "markdown",
   "id": "46b5152e",
   "metadata": {},
   "source": [
    "### 5.3 Training a K-Nearest Neighbors model"
   ]
  },
  {
   "cell_type": "code",
   "execution_count": 87,
   "id": "55f252ba",
   "metadata": {},
   "outputs": [
    {
     "data": {
      "text/plain": [
       "KNeighborsClassifier(n_neighbors=1)"
      ]
     },
     "execution_count": 87,
     "metadata": {},
     "output_type": "execute_result"
    }
   ],
   "source": [
    "a = n_neighbors = 1\n",
    "knn_1 = KNC(a)\n",
    "knn_1.fit(x_train, y_train)"
   ]
  },
  {
   "cell_type": "markdown",
   "id": "26fcb49d",
   "metadata": {},
   "source": [
    "### 5.4 Making predictions"
   ]
  },
  {
   "cell_type": "code",
   "execution_count": 88,
   "id": "f2126fd3",
   "metadata": {},
   "outputs": [],
   "source": [
    "pred_1 = knn_1.predict(x_test)"
   ]
  },
  {
   "cell_type": "markdown",
   "id": "26f01c11",
   "metadata": {},
   "source": [
    "### 5.5 Getting metrics with just 1 neighbor"
   ]
  },
  {
   "cell_type": "code",
   "execution_count": 90,
   "id": "09ddb4f9",
   "metadata": {},
   "outputs": [
    {
     "name": "stdout",
     "output_type": "stream",
     "text": [
      "Number of neighbors = 1\n",
      "[[5 1 3 1]\n",
      " [5 3 2 5]\n",
      " [3 0 1 3]\n",
      " [2 2 1 5]]\n",
      "              precision    recall  f1-score   support\n",
      "\n",
      "           1       0.33      0.50      0.40        10\n",
      "           2       0.50      0.20      0.29        15\n",
      "           3       0.14      0.14      0.14         7\n",
      "           4       0.36      0.50      0.42        10\n",
      "\n",
      "    accuracy                           0.33        42\n",
      "   macro avg       0.33      0.34      0.31        42\n",
      "weighted avg       0.37      0.33      0.32        42\n",
      "\n"
     ]
    }
   ],
   "source": [
    "print(f'Number of neighbors = {a}')\n",
    "print(cm(y_test, pred_1))\n",
    "print(cr(y_test, pred_1))"
   ]
  },
  {
   "cell_type": "markdown",
   "id": "04dfef8e",
   "metadata": {},
   "source": [
    "### 5.6 Searching for the best number of neighbors with the \"Elbow method\""
   ]
  },
  {
   "cell_type": "code",
   "execution_count": 34,
   "id": "ab698d32",
   "metadata": {},
   "outputs": [
    {
     "data": {
      "text/plain": [
       "Text(0, 0.5, 'Error Rate')"
      ]
     },
     "execution_count": 34,
     "metadata": {},
     "output_type": "execute_result"
    },
    {
     "data": {
      "image/png": "[encoded data removed]",
      "text/plain": [
       "<Figure size 720x432 with 1 Axes>"
      ]
     },
     "metadata": {},
     "output_type": "display_data"
    }
   ],
   "source": [
    "error_rate = []\n",
    "for i in range(1,40):\n",
    "    knn = KNC(n_neighbors=i)\n",
    "    knn.fit(x_train, y_train)\n",
    "    pred_i = knn.predict(x_test)\n",
    "    \n",
    "    error_rate.append(np.mean(pred_i != y_test))\n",
    "    \n",
    "    \n",
    "plt.figure(figsize=(10,6))\n",
    "plt.plot(range(1,40), error_rate, color='blue', linestyle='dashed', marker='o', markerfacecolor='red', markersize=10)\n",
    "plt.title('Error Rate vs k-value')\n",
    "plt.xlabel('k')\n",
    "plt.ylabel('Error Rate')"
   ]
  },
  {
   "cell_type": "markdown",
   "id": "20f45074",
   "metadata": {},
   "source": [
    "### 5.7 Getting metrics with just 24 neighbor"
   ]
  },
  {
   "cell_type": "code",
   "execution_count": 109,
   "id": "24eaaa56",
   "metadata": {},
   "outputs": [
    {
     "name": "stdout",
     "output_type": "stream",
     "text": [
      "Number of neighbors = 24\n",
      "[[4 5 1 0]\n",
      " [6 7 0 2]\n",
      " [4 0 2 1]\n",
      " [6 0 0 4]]\n",
      "              precision    recall  f1-score   support\n",
      "\n",
      "           1       0.20      0.40      0.27        10\n",
      "           2       0.58      0.47      0.52        15\n",
      "           3       0.67      0.29      0.40         7\n",
      "           4       0.57      0.40      0.47        10\n",
      "\n",
      "    accuracy                           0.40        42\n",
      "   macro avg       0.51      0.39      0.41        42\n",
      "weighted avg       0.50      0.40      0.43        42\n",
      "\n"
     ]
    }
   ],
   "source": [
    "# It is selected 24 neighbors as one of the stabilized values under an error rate of 0.650, leading to the best scores.\n",
    "b = n_neighbors = 24\n",
    "knn_2 = KNC(b)\n",
    "knn_2.fit(x_train, y_train)\n",
    "pred_2 = knn_2.predict(x_test)\n",
    "\n",
    "print(f'Number of neighbors = {b}')\n",
    "print(cm(y_test, pred_2))\n",
    "print(cr(y_test, pred_2))"
   ]
  },
  {
   "cell_type": "markdown",
   "id": "efc4ce6f",
   "metadata": {},
   "source": [
    "### 5.8 Percentage of improvement in the model"
   ]
  },
  {
   "cell_type": "code",
   "execution_count": 108,
   "id": "e980bf79",
   "metadata": {},
   "outputs": [
    {
     "name": "stdout",
     "output_type": "stream",
     "text": [
      "Accuracy improvement: 7.14%\n",
      "Precision improvement: 13.63%\n",
      "Recall improvement: 7.14%\n",
      "F1-Score improvement: 10.71%\n"
     ]
    }
   ],
   "source": [
    "dif_accuracy = round(100*abs(accuracy_score(y_test, pred_1)-accuracy_score(y_test, pred_2)), 2)\n",
    "dif_precision = round(100*abs(precision_score(y_test, pred_1, average='weighted')-precision_score(y_test, pred_2, average='weighted')), 2)\n",
    "dif_recall = round(100*abs(recall_score(y_test, pred_1, average='weighted')-recall_score(y_test, pred_2, average='weighted')), 2)\n",
    "dif_f1_score = round(100*abs(f1_score(y_test, pred_1, average='weighted')-f1_score(y_test, pred_2, average='weighted')), 2)\n",
    "\n",
    "print(f'Accuracy improvement: {dif_accuracy}%')\n",
    "print(f'Precision improvement: {dif_precision}%')\n",
    "print(f'Recall improvement: {dif_recall}%')\n",
    "print(f'F1-Score improvement: {dif_f1_score}%')"
   ]
  },
  {
   "cell_type": "markdown",
   "id": "2241143c",
   "metadata": {},
   "source": [
    "## 6. Conclusions"
   ]
  },
  {
   "cell_type": "markdown",
   "id": "43a797f2",
   "metadata": {},
   "source": [
    "* Due to the size of the samples in the data splitting, it is that the metrics are considerably penalized in their results, however, it could give a good first approach to predictions of whether a horse has a good race time or not, regarding the circumstances in each case.\n",
    "* Better analysis and predictions could be made if there were more data per year that demonstrated a higher correlation between the characteristics of the data, as well as more parameters to consider, such as horse weights and sizes.\n",
    "* Despite the data cut of the races of 1.5 in distance, this model could be improved and updated in its parameters, progressively feeding it with new data over time."
   ]
  }
 ],
 "metadata": {
  "kernelspec": {
   "display_name": "Python 3 (ipykernel)",
   "language": "python",
   "name": "python3"
  },
  "language_info": {
   "codemirror_mode": {
    "name": "ipython",
    "version": 3
   },
   "file_extension": ".py",
   "mimetype": "text/x-python",
   "name": "python",
   "nbconvert_exporter": "python",
   "pygments_lexer": "ipython3",
   "version": "3.9.12"
  }
 },
 "nbformat": 4,
 "nbformat_minor": 5
}
